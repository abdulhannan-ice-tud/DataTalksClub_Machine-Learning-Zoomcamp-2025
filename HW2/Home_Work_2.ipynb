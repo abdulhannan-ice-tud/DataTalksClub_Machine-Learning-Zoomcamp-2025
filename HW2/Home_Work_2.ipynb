{
 "cells": [
  {
   "cell_type": "code",
   "execution_count": 55,
   "id": "a0784c37",
   "metadata": {},
   "outputs": [],
   "source": [
    "import pandas as pd\n",
    "import numpy as np\n",
    "df= pd.read_csv(\"https://raw.githubusercontent.com/alexeygrigorev/datasets/master/car_fuel_efficiency.csv\")"
   ]
  },
  {
   "cell_type": "code",
   "execution_count": 56,
   "id": "4fb8f91b",
   "metadata": {},
   "outputs": [
    {
     "data": {
      "text/html": [
       "<div>\n",
       "<style scoped>\n",
       "    .dataframe tbody tr th:only-of-type {\n",
       "        vertical-align: middle;\n",
       "    }\n",
       "\n",
       "    .dataframe tbody tr th {\n",
       "        vertical-align: top;\n",
       "    }\n",
       "\n",
       "    .dataframe thead th {\n",
       "        text-align: right;\n",
       "    }\n",
       "</style>\n",
       "<table border=\"1\" class=\"dataframe\">\n",
       "  <thead>\n",
       "    <tr style=\"text-align: right;\">\n",
       "      <th></th>\n",
       "      <th>engine_displacement</th>\n",
       "      <th>horsepower</th>\n",
       "      <th>vehicle_weight</th>\n",
       "      <th>model_year</th>\n",
       "      <th>fuel_efficiency_mpg</th>\n",
       "    </tr>\n",
       "  </thead>\n",
       "  <tbody>\n",
       "    <tr>\n",
       "      <th>0</th>\n",
       "      <td>170</td>\n",
       "      <td>159.0</td>\n",
       "      <td>3413.433759</td>\n",
       "      <td>2003</td>\n",
       "      <td>13.231729</td>\n",
       "    </tr>\n",
       "    <tr>\n",
       "      <th>1</th>\n",
       "      <td>130</td>\n",
       "      <td>97.0</td>\n",
       "      <td>3149.664934</td>\n",
       "      <td>2007</td>\n",
       "      <td>13.688217</td>\n",
       "    </tr>\n",
       "    <tr>\n",
       "      <th>2</th>\n",
       "      <td>170</td>\n",
       "      <td>78.0</td>\n",
       "      <td>3079.038997</td>\n",
       "      <td>2018</td>\n",
       "      <td>14.246341</td>\n",
       "    </tr>\n",
       "    <tr>\n",
       "      <th>3</th>\n",
       "      <td>220</td>\n",
       "      <td>NaN</td>\n",
       "      <td>2542.392402</td>\n",
       "      <td>2009</td>\n",
       "      <td>16.912736</td>\n",
       "    </tr>\n",
       "    <tr>\n",
       "      <th>4</th>\n",
       "      <td>210</td>\n",
       "      <td>140.0</td>\n",
       "      <td>3460.870990</td>\n",
       "      <td>2009</td>\n",
       "      <td>12.488369</td>\n",
       "    </tr>\n",
       "    <tr>\n",
       "      <th>...</th>\n",
       "      <td>...</td>\n",
       "      <td>...</td>\n",
       "      <td>...</td>\n",
       "      <td>...</td>\n",
       "      <td>...</td>\n",
       "    </tr>\n",
       "    <tr>\n",
       "      <th>9699</th>\n",
       "      <td>140</td>\n",
       "      <td>164.0</td>\n",
       "      <td>2981.107371</td>\n",
       "      <td>2013</td>\n",
       "      <td>15.101802</td>\n",
       "    </tr>\n",
       "    <tr>\n",
       "      <th>9700</th>\n",
       "      <td>180</td>\n",
       "      <td>154.0</td>\n",
       "      <td>2439.525729</td>\n",
       "      <td>2004</td>\n",
       "      <td>17.962326</td>\n",
       "    </tr>\n",
       "    <tr>\n",
       "      <th>9701</th>\n",
       "      <td>220</td>\n",
       "      <td>138.0</td>\n",
       "      <td>2583.471318</td>\n",
       "      <td>2008</td>\n",
       "      <td>17.186587</td>\n",
       "    </tr>\n",
       "    <tr>\n",
       "      <th>9702</th>\n",
       "      <td>230</td>\n",
       "      <td>177.0</td>\n",
       "      <td>2905.527390</td>\n",
       "      <td>2011</td>\n",
       "      <td>15.331551</td>\n",
       "    </tr>\n",
       "    <tr>\n",
       "      <th>9703</th>\n",
       "      <td>270</td>\n",
       "      <td>140.0</td>\n",
       "      <td>2908.043477</td>\n",
       "      <td>2005</td>\n",
       "      <td>14.884467</td>\n",
       "    </tr>\n",
       "  </tbody>\n",
       "</table>\n",
       "<p>9704 rows × 5 columns</p>\n",
       "</div>"
      ],
      "text/plain": [
       "      engine_displacement  horsepower  vehicle_weight  model_year  \\\n",
       "0                     170       159.0     3413.433759        2003   \n",
       "1                     130        97.0     3149.664934        2007   \n",
       "2                     170        78.0     3079.038997        2018   \n",
       "3                     220         NaN     2542.392402        2009   \n",
       "4                     210       140.0     3460.870990        2009   \n",
       "...                   ...         ...             ...         ...   \n",
       "9699                  140       164.0     2981.107371        2013   \n",
       "9700                  180       154.0     2439.525729        2004   \n",
       "9701                  220       138.0     2583.471318        2008   \n",
       "9702                  230       177.0     2905.527390        2011   \n",
       "9703                  270       140.0     2908.043477        2005   \n",
       "\n",
       "      fuel_efficiency_mpg  \n",
       "0               13.231729  \n",
       "1               13.688217  \n",
       "2               14.246341  \n",
       "3               16.912736  \n",
       "4               12.488369  \n",
       "...                   ...  \n",
       "9699            15.101802  \n",
       "9700            17.962326  \n",
       "9701            17.186587  \n",
       "9702            15.331551  \n",
       "9703            14.884467  \n",
       "\n",
       "[9704 rows x 5 columns]"
      ]
     },
     "execution_count": 56,
     "metadata": {},
     "output_type": "execute_result"
    }
   ],
   "source": [
    "df = df[['engine_displacement','horsepower','vehicle_weight','model_year','fuel_efficiency_mpg']]\n",
    "df"
   ]
  },
  {
   "cell_type": "code",
   "execution_count": 57,
   "id": "34eaa989",
   "metadata": {},
   "outputs": [
    {
     "data": {
      "text/html": [
       "<div>\n",
       "<style scoped>\n",
       "    .dataframe tbody tr th:only-of-type {\n",
       "        vertical-align: middle;\n",
       "    }\n",
       "\n",
       "    .dataframe tbody tr th {\n",
       "        vertical-align: top;\n",
       "    }\n",
       "\n",
       "    .dataframe thead th {\n",
       "        text-align: right;\n",
       "    }\n",
       "</style>\n",
       "<table border=\"1\" class=\"dataframe\">\n",
       "  <thead>\n",
       "    <tr style=\"text-align: right;\">\n",
       "      <th></th>\n",
       "      <th>engine_displacement</th>\n",
       "      <th>horsepower</th>\n",
       "      <th>vehicle_weight</th>\n",
       "      <th>model_year</th>\n",
       "      <th>fuel_efficiency_mpg</th>\n",
       "    </tr>\n",
       "  </thead>\n",
       "  <tbody>\n",
       "    <tr>\n",
       "      <th>count</th>\n",
       "      <td>9704.000000</td>\n",
       "      <td>8996.000000</td>\n",
       "      <td>9704.000000</td>\n",
       "      <td>9704.000000</td>\n",
       "      <td>9704.000000</td>\n",
       "    </tr>\n",
       "    <tr>\n",
       "      <th>mean</th>\n",
       "      <td>199.708368</td>\n",
       "      <td>149.657292</td>\n",
       "      <td>3001.280993</td>\n",
       "      <td>2011.484027</td>\n",
       "      <td>14.985243</td>\n",
       "    </tr>\n",
       "    <tr>\n",
       "      <th>std</th>\n",
       "      <td>49.455319</td>\n",
       "      <td>29.879555</td>\n",
       "      <td>497.894860</td>\n",
       "      <td>6.659808</td>\n",
       "      <td>2.556468</td>\n",
       "    </tr>\n",
       "    <tr>\n",
       "      <th>min</th>\n",
       "      <td>10.000000</td>\n",
       "      <td>37.000000</td>\n",
       "      <td>952.681761</td>\n",
       "      <td>2000.000000</td>\n",
       "      <td>6.200971</td>\n",
       "    </tr>\n",
       "    <tr>\n",
       "      <th>25%</th>\n",
       "      <td>170.000000</td>\n",
       "      <td>130.000000</td>\n",
       "      <td>2666.248985</td>\n",
       "      <td>2006.000000</td>\n",
       "      <td>13.267459</td>\n",
       "    </tr>\n",
       "    <tr>\n",
       "      <th>50%</th>\n",
       "      <td>200.000000</td>\n",
       "      <td>149.000000</td>\n",
       "      <td>2993.226296</td>\n",
       "      <td>2012.000000</td>\n",
       "      <td>15.006037</td>\n",
       "    </tr>\n",
       "    <tr>\n",
       "      <th>75%</th>\n",
       "      <td>230.000000</td>\n",
       "      <td>170.000000</td>\n",
       "      <td>3334.957039</td>\n",
       "      <td>2017.000000</td>\n",
       "      <td>16.707965</td>\n",
       "    </tr>\n",
       "    <tr>\n",
       "      <th>max</th>\n",
       "      <td>380.000000</td>\n",
       "      <td>271.000000</td>\n",
       "      <td>4739.077089</td>\n",
       "      <td>2023.000000</td>\n",
       "      <td>25.967222</td>\n",
       "    </tr>\n",
       "  </tbody>\n",
       "</table>\n",
       "</div>"
      ],
      "text/plain": [
       "       engine_displacement   horsepower  vehicle_weight   model_year  \\\n",
       "count          9704.000000  8996.000000     9704.000000  9704.000000   \n",
       "mean            199.708368   149.657292     3001.280993  2011.484027   \n",
       "std              49.455319    29.879555      497.894860     6.659808   \n",
       "min              10.000000    37.000000      952.681761  2000.000000   \n",
       "25%             170.000000   130.000000     2666.248985  2006.000000   \n",
       "50%             200.000000   149.000000     2993.226296  2012.000000   \n",
       "75%             230.000000   170.000000     3334.957039  2017.000000   \n",
       "max             380.000000   271.000000     4739.077089  2023.000000   \n",
       "\n",
       "       fuel_efficiency_mpg  \n",
       "count          9704.000000  \n",
       "mean             14.985243  \n",
       "std               2.556468  \n",
       "min               6.200971  \n",
       "25%              13.267459  \n",
       "50%              15.006037  \n",
       "75%              16.707965  \n",
       "max              25.967222  "
      ]
     },
     "execution_count": 57,
     "metadata": {},
     "output_type": "execute_result"
    }
   ],
   "source": [
    "df.describe()"
   ]
  },
  {
   "cell_type": "code",
   "execution_count": 58,
   "id": "d1f1703e",
   "metadata": {},
   "outputs": [
    {
     "data": {
      "text/plain": [
       "<Axes: ylabel='Frequency'>"
      ]
     },
     "execution_count": 58,
     "metadata": {},
     "output_type": "execute_result"
    },
    {
     "data": {
      "image/png": "[encoded data removed]",
      "text/plain": [
       "<Figure size 640x480 with 1 Axes>"
      ]
     },
     "metadata": {},
     "output_type": "display_data"
    }
   ],
   "source": [
    "df['fuel_efficiency_mpg'].plot.hist()"
   ]
  },
  {
   "cell_type": "code",
   "execution_count": 59,
   "id": "6efb9917",
   "metadata": {},
   "outputs": [
    {
     "data": {
      "text/plain": [
       "0.022732244497634557"
      ]
     },
     "execution_count": 59,
     "metadata": {},
     "output_type": "execute_result"
    }
   ],
   "source": [
    "df['fuel_efficiency_mpg'].kurt()"
   ]
  },
  {
   "cell_type": "code",
   "execution_count": 60,
   "id": "a452a58d",
   "metadata": {},
   "outputs": [
    {
     "data": {
      "text/plain": [
       "-0.012062219273507929"
      ]
     },
     "execution_count": 60,
     "metadata": {},
     "output_type": "execute_result"
    }
   ],
   "source": [
    "df['fuel_efficiency_mpg'].skew()"
   ]
  },
  {
   "cell_type": "markdown",
   "id": "b22186db",
   "metadata": {},
   "source": [
    "# Question 1\n",
    "# Finding the name of column with null lvalue"
   ]
  },
  {
   "cell_type": "code",
   "execution_count": 61,
   "id": "03bbb204",
   "metadata": {},
   "outputs": [
    {
     "data": {
      "text/plain": [
       "engine_displacement      0\n",
       "horsepower             708\n",
       "vehicle_weight           0\n",
       "model_year               0\n",
       "dtype: int64"
      ]
     },
     "execution_count": 61,
     "metadata": {},
     "output_type": "execute_result"
    }
   ],
   "source": [
    "df[['engine_displacement','horsepower','vehicle_weight','model_year']].isnull().sum()\n"
   ]
  },
  {
   "cell_type": "markdown",
   "id": "3631f860",
   "metadata": {},
   "source": [
    "# Question 2\n",
    "# Finding the median (50% percentile) for variable 'horsepower'"
   ]
  },
  {
   "cell_type": "code",
   "execution_count": 62,
   "id": "675774c9",
   "metadata": {},
   "outputs": [
    {
     "data": {
      "text/plain": [
       "149.0"
      ]
     },
     "execution_count": 62,
     "metadata": {},
     "output_type": "execute_result"
    }
   ],
   "source": [
    "df['horsepower'].median()"
   ]
  },
  {
   "cell_type": "code",
   "execution_count": 63,
   "id": "85899034",
   "metadata": {},
   "outputs": [
    {
     "data": {
      "text/plain": [
       "9704"
      ]
     },
     "execution_count": 63,
     "metadata": {},
     "output_type": "execute_result"
    }
   ],
   "source": [
    "len(df)"
   ]
  },
  {
   "cell_type": "markdown",
   "id": "e2786e39",
   "metadata": {},
   "source": [
    "# Split the data set"
   ]
  },
  {
   "cell_type": "code",
   "execution_count": 64,
   "id": "bba92aff",
   "metadata": {},
   "outputs": [
    {
     "data": {
      "text/html": [
       "<div>\n",
       "<style scoped>\n",
       "    .dataframe tbody tr th:only-of-type {\n",
       "        vertical-align: middle;\n",
       "    }\n",
       "\n",
       "    .dataframe tbody tr th {\n",
       "        vertical-align: top;\n",
       "    }\n",
       "\n",
       "    .dataframe thead th {\n",
       "        text-align: right;\n",
       "    }\n",
       "</style>\n",
       "<table border=\"1\" class=\"dataframe\">\n",
       "  <thead>\n",
       "    <tr style=\"text-align: right;\">\n",
       "      <th></th>\n",
       "      <th>engine_displacement</th>\n",
       "      <th>horsepower</th>\n",
       "      <th>vehicle_weight</th>\n",
       "      <th>model_year</th>\n",
       "      <th>fuel_efficiency_mpg</th>\n",
       "    </tr>\n",
       "  </thead>\n",
       "  <tbody>\n",
       "    <tr>\n",
       "      <th>0</th>\n",
       "      <td>220</td>\n",
       "      <td>144.0</td>\n",
       "      <td>2535.887591</td>\n",
       "      <td>2009</td>\n",
       "      <td>16.642943</td>\n",
       "    </tr>\n",
       "    <tr>\n",
       "      <th>1</th>\n",
       "      <td>160</td>\n",
       "      <td>141.0</td>\n",
       "      <td>2741.170484</td>\n",
       "      <td>2019</td>\n",
       "      <td>16.298377</td>\n",
       "    </tr>\n",
       "    <tr>\n",
       "      <th>2</th>\n",
       "      <td>230</td>\n",
       "      <td>155.0</td>\n",
       "      <td>2471.880237</td>\n",
       "      <td>2017</td>\n",
       "      <td>18.591822</td>\n",
       "    </tr>\n",
       "    <tr>\n",
       "      <th>3</th>\n",
       "      <td>150</td>\n",
       "      <td>206.0</td>\n",
       "      <td>3748.164469</td>\n",
       "      <td>2015</td>\n",
       "      <td>11.818843</td>\n",
       "    </tr>\n",
       "    <tr>\n",
       "      <th>4</th>\n",
       "      <td>300</td>\n",
       "      <td>111.0</td>\n",
       "      <td>2135.716359</td>\n",
       "      <td>2006</td>\n",
       "      <td>19.402209</td>\n",
       "    </tr>\n",
       "    <tr>\n",
       "      <th>...</th>\n",
       "      <td>...</td>\n",
       "      <td>...</td>\n",
       "      <td>...</td>\n",
       "      <td>...</td>\n",
       "      <td>...</td>\n",
       "    </tr>\n",
       "    <tr>\n",
       "      <th>9699</th>\n",
       "      <td>210</td>\n",
       "      <td>163.0</td>\n",
       "      <td>1972.029124</td>\n",
       "      <td>2011</td>\n",
       "      <td>19.961672</td>\n",
       "    </tr>\n",
       "    <tr>\n",
       "      <th>9700</th>\n",
       "      <td>160</td>\n",
       "      <td>126.0</td>\n",
       "      <td>3011.588014</td>\n",
       "      <td>2009</td>\n",
       "      <td>14.651056</td>\n",
       "    </tr>\n",
       "    <tr>\n",
       "      <th>9701</th>\n",
       "      <td>290</td>\n",
       "      <td>187.0</td>\n",
       "      <td>2440.508039</td>\n",
       "      <td>2019</td>\n",
       "      <td>18.404435</td>\n",
       "    </tr>\n",
       "    <tr>\n",
       "      <th>9702</th>\n",
       "      <td>260</td>\n",
       "      <td>129.0</td>\n",
       "      <td>1865.404480</td>\n",
       "      <td>2019</td>\n",
       "      <td>20.502460</td>\n",
       "    </tr>\n",
       "    <tr>\n",
       "      <th>9703</th>\n",
       "      <td>270</td>\n",
       "      <td>147.0</td>\n",
       "      <td>2611.939500</td>\n",
       "      <td>2017</td>\n",
       "      <td>16.816241</td>\n",
       "    </tr>\n",
       "  </tbody>\n",
       "</table>\n",
       "<p>9704 rows × 5 columns</p>\n",
       "</div>"
      ],
      "text/plain": [
       "      engine_displacement  horsepower  vehicle_weight  model_year  \\\n",
       "0                     220       144.0     2535.887591        2009   \n",
       "1                     160       141.0     2741.170484        2019   \n",
       "2                     230       155.0     2471.880237        2017   \n",
       "3                     150       206.0     3748.164469        2015   \n",
       "4                     300       111.0     2135.716359        2006   \n",
       "...                   ...         ...             ...         ...   \n",
       "9699                  210       163.0     1972.029124        2011   \n",
       "9700                  160       126.0     3011.588014        2009   \n",
       "9701                  290       187.0     2440.508039        2019   \n",
       "9702                  260       129.0     1865.404480        2019   \n",
       "9703                  270       147.0     2611.939500        2017   \n",
       "\n",
       "      fuel_efficiency_mpg  \n",
       "0               16.642943  \n",
       "1               16.298377  \n",
       "2               18.591822  \n",
       "3               11.818843  \n",
       "4               19.402209  \n",
       "...                   ...  \n",
       "9699            19.961672  \n",
       "9700            14.651056  \n",
       "9701            18.404435  \n",
       "9702            20.502460  \n",
       "9703            16.816241  \n",
       "\n",
       "[9704 rows x 5 columns]"
      ]
     },
     "execution_count": 64,
     "metadata": {},
     "output_type": "execute_result"
    }
   ],
   "source": [
    "def random_shuffle(df,seed_value):\n",
    "    np.random.seed(seed_value)\n",
    "    n= len(df)\n",
    "    idx= np.arange(n)\n",
    "    np.random.shuffle(idx)\n",
    "    df_shuffled = df.iloc[idx].reset_index(drop=True)\n",
    "    return df_shuffled\n",
    "random_shuffle(df,42)"
   ]
  },
  {
   "cell_type": "code",
   "execution_count": 65,
   "id": "d2850197",
   "metadata": {},
   "outputs": [
    {
     "data": {
      "text/plain": [
       "(      engine_displacement  horsepower  vehicle_weight  model_year  \\\n",
       " 0                     220       144.0     2535.887591        2009   \n",
       " 1                     160       141.0     2741.170484        2019   \n",
       " 2                     230       155.0     2471.880237        2017   \n",
       " 3                     150       206.0     3748.164469        2015   \n",
       " 4                     300       111.0     2135.716359        2006   \n",
       " ...                   ...         ...             ...         ...   \n",
       " 5819                  260       139.0     2606.972984        2009   \n",
       " 5820                  280       132.0     4004.214323        2014   \n",
       " 5821                  210       152.0     2500.175687        2020   \n",
       " 5822                  250       154.0     2254.313245        2002   \n",
       " 5823                  210       152.0     2435.203606        2004   \n",
       " \n",
       "       fuel_efficiency_mpg  \n",
       " 0               16.642943  \n",
       " 1               16.298377  \n",
       " 2               18.591822  \n",
       " 3               11.818843  \n",
       " 4               19.402209  \n",
       " ...                   ...  \n",
       " 5819            16.964054  \n",
       " 5820            10.059094  \n",
       " 5821            17.593237  \n",
       " 5822            18.925748  \n",
       " 5823            17.965284  \n",
       " \n",
       " [5824 rows x 5 columns],\n",
       "       engine_displacement  horsepower  vehicle_weight  model_year  \\\n",
       " 5824                  180       112.0     2772.134410        2020   \n",
       " 5825                  260       138.0     3014.061530        2022   \n",
       " 5826                  140       181.0     3652.186151        2016   \n",
       " 5827                  270       105.0     2753.040847        2023   \n",
       " 5828                  170       224.0     4163.375137        2003   \n",
       " ...                   ...         ...             ...         ...   \n",
       " 7759                  290       205.0     3403.401496        2019   \n",
       " 7760                  200       159.0     2752.516039        2009   \n",
       " 7761                  230       202.0     3303.000688        2008   \n",
       " 7762                  220       169.0     3293.420251        2008   \n",
       " 7763                  200       117.0     2692.781292        2004   \n",
       " \n",
       "       fuel_efficiency_mpg  \n",
       " 5824            15.366341  \n",
       " 5825            14.601182  \n",
       " 5826            12.247032  \n",
       " 5827            15.136400  \n",
       " 5828            10.340419  \n",
       " ...                   ...  \n",
       " 7759            13.868607  \n",
       " 7760            15.665403  \n",
       " 7761            13.613127  \n",
       " 7762            13.733343  \n",
       " 7763            15.816050  \n",
       " \n",
       " [1940 rows x 5 columns],\n",
       "       engine_displacement  horsepower  vehicle_weight  model_year  \\\n",
       " 7764                  140       148.0     2704.826005        2017   \n",
       " 7765                  210       136.0     3001.227490        2004   \n",
       " 7766                  210       152.0     3747.467392        2021   \n",
       " 7767                  190       128.0     2705.833636        2014   \n",
       " 7768                  230       156.0     2505.939657        2005   \n",
       " ...                   ...         ...             ...         ...   \n",
       " 9699                  210       163.0     1972.029124        2011   \n",
       " 9700                  160       126.0     3011.588014        2009   \n",
       " 9701                  290       187.0     2440.508039        2019   \n",
       " 9702                  260       129.0     1865.404480        2019   \n",
       " 9703                  270       147.0     2611.939500        2017   \n",
       " \n",
       "       fuel_efficiency_mpg  \n",
       " 7764            15.804354  \n",
       " 7765            14.272374  \n",
       " 7766            11.748441  \n",
       " 7767            16.485991  \n",
       " 7768            17.779704  \n",
       " ...                   ...  \n",
       " 9699            19.961672  \n",
       " 9700            14.651056  \n",
       " 9701            18.404435  \n",
       " 9702            20.502460  \n",
       " 9703            16.816241  \n",
       " \n",
       " [1940 rows x 5 columns])"
      ]
     },
     "execution_count": 65,
     "metadata": {},
     "output_type": "execute_result"
    }
   ],
   "source": [
    "def split_dataset(df,val_ratio=0.2, test_ratio=0.2, seed_value=42):\n",
    "    df_shuffled=random_shuffle(df,seed_value)\n",
    "    n=len(df)\n",
    "    \n",
    "    n_val=int(val_ratio*n)\n",
    "    n_test=int(test_ratio*n)\n",
    "    n_train=n-(n_val+n_test)\n",
    "\n",
    "    df_train = df_shuffled.iloc[:n_train].copy()\n",
    "    df_val = df_shuffled.iloc[n_train:n_train+n_val].copy()\n",
    "    df_test = df_shuffled.iloc[n_train+n_val:].copy()\n",
    "    return df_train, df_val, df_test\n",
    "split_dataset(df)\n",
    "\n",
    "\n",
    "\n"
   ]
  },
  {
   "cell_type": "markdown",
   "id": "3b0e4201",
   "metadata": {},
   "source": [
    "# Question 3"
   ]
  },
  {
   "cell_type": "code",
   "execution_count": 66,
   "id": "b3cbc678",
   "metadata": {},
   "outputs": [
    {
     "data": {
      "text/plain": [
       "(      engine_displacement  horsepower  vehicle_weight  model_year\n",
       " 0                     220       144.0     2535.887591        2009\n",
       " 1                     160       141.0     2741.170484        2019\n",
       " 2                     230       155.0     2471.880237        2017\n",
       " 3                     150       206.0     3748.164469        2015\n",
       " 4                     300       111.0     2135.716359        2006\n",
       " ...                   ...         ...             ...         ...\n",
       " 5819                  260       139.0     2606.972984        2009\n",
       " 5820                  280       132.0     4004.214323        2014\n",
       " 5821                  210       152.0     2500.175687        2020\n",
       " 5822                  250       154.0     2254.313245        2002\n",
       " 5823                  210       152.0     2435.203606        2004\n",
       " \n",
       " [5824 rows x 4 columns],\n",
       "       engine_displacement  horsepower  vehicle_weight  model_year\n",
       " 5824                  180       112.0     2772.134410        2020\n",
       " 5825                  260       138.0     3014.061530        2022\n",
       " 5826                  140       181.0     3652.186151        2016\n",
       " 5827                  270       105.0     2753.040847        2023\n",
       " 5828                  170       224.0     4163.375137        2003\n",
       " ...                   ...         ...             ...         ...\n",
       " 7759                  290       205.0     3403.401496        2019\n",
       " 7760                  200       159.0     2752.516039        2009\n",
       " 7761                  230       202.0     3303.000688        2008\n",
       " 7762                  220       169.0     3293.420251        2008\n",
       " 7763                  200       117.0     2692.781292        2004\n",
       " \n",
       " [1940 rows x 4 columns],\n",
       "       engine_displacement  horsepower  vehicle_weight  model_year\n",
       " 7764                  140       148.0     2704.826005        2017\n",
       " 7765                  210       136.0     3001.227490        2004\n",
       " 7766                  210       152.0     3747.467392        2021\n",
       " 7767                  190       128.0     2705.833636        2014\n",
       " 7768                  230       156.0     2505.939657        2005\n",
       " ...                   ...         ...             ...         ...\n",
       " 9699                  210       163.0     1972.029124        2011\n",
       " 9700                  160       126.0     3011.588014        2009\n",
       " 9701                  290       187.0     2440.508039        2019\n",
       " 9702                  260       129.0     1865.404480        2019\n",
       " 9703                  270       147.0     2611.939500        2017\n",
       " \n",
       " [1940 rows x 4 columns],\n",
       " array([2.8703359 , 2.85061269, 2.97511223, ..., 2.92279789, 2.99201277,\n",
       "        2.94261017]),\n",
       " array([2.79522685, 2.74734667, 2.58377354, ..., 2.68192023, 2.69011317,\n",
       "        2.82233377]),\n",
       " array([2.82163803, 2.72604557, 2.54540897, ..., 2.96550163, 3.06816735,\n",
       "        2.88011043]))"
      ]
     },
     "execution_count": 66,
     "metadata": {},
     "output_type": "execute_result"
    }
   ],
   "source": [
    "def X_y_train_val_test(df,target_column, val_ratio=0.2, test_ratio=0.2, seed_value=42):\n",
    "    df_train, df_val, df_test = split_dataset(df,val_ratio, test_ratio, seed_value)\n",
    "\n",
    "    y_train_orig = df_train[target_column].values\n",
    "    y_val_orig = df_val[target_column].values\n",
    "    y_test_orig = df_test[target_column].values\n",
    "\n",
    "    y_train = np.log1p(y_train_orig)\n",
    "    y_val = np.log1p(y_val_orig)\n",
    "    y_test = np.log1p(y_test_orig)\n",
    "\n",
    "    X_train=df_train.drop(columns=[target_column])\n",
    "    X_val=df_val.drop(columns=[target_column])\n",
    "    X_test=df_test.drop(columns=[target_column])\n",
    "    \n",
    "    return X_train, X_val, X_test, y_train, y_val, y_test\n",
    "\n",
    "x= X_y_train_val_test(df,'fuel_efficiency_mpg')\n",
    "\n",
    "x\n",
    "\n",
    "\n",
    "\n",
    "\n",
    "\n"
   ]
  },
  {
   "cell_type": "code",
   "execution_count": 67,
   "id": "537f29d0",
   "metadata": {},
   "outputs": [
    {
     "data": {
      "text/plain": [
       "engine_displacement      0\n",
       "horsepower             708\n",
       "vehicle_weight           0\n",
       "model_year               0\n",
       "fuel_efficiency_mpg      0\n",
       "dtype: int64"
      ]
     },
     "execution_count": 67,
     "metadata": {},
     "output_type": "execute_result"
    }
   ],
   "source": [
    "df.isnull().sum()\n"
   ]
  },
  {
   "cell_type": "code",
   "execution_count": 68,
   "id": "ba1ab5f3",
   "metadata": {},
   "outputs": [
    {
     "data": {
      "text/plain": [
       "149.65729212983547"
      ]
     },
     "execution_count": 68,
     "metadata": {},
     "output_type": "execute_result"
    }
   ],
   "source": [
    "mean=df['horsepower'].mean()\n",
    "mean\n"
   ]
  },
  {
   "cell_type": "code",
   "execution_count": 69,
   "id": "2575dd50",
   "metadata": {},
   "outputs": [],
   "source": [
    "def prepare_x(df, fill_value):\n",
    "    df_num = df.fillna(fill_value)\n",
    "    x=np.array(df_num)\n",
    "    return x\n",
    "\n",
    "\n",
    "\n"
   ]
  },
  {
   "cell_type": "code",
   "execution_count": 70,
   "id": "1be8153b",
   "metadata": {},
   "outputs": [],
   "source": [
    "def train_linear_regression(X,y):\n",
    "    ones=np.ones(X.shape[0])\n",
    "    X=np.column_stack([ones, X])\n",
    "    \n",
    "    XTX=X.T.dot(X)\n",
    "    XTX_inv=np.linalg.inv(XTX)\n",
    "    w=XTX_inv.dot(X.T).dot(y)\n",
    "    return w[0], w[1:]\n"
   ]
  },
  {
   "cell_type": "markdown",
   "id": "ddb50dc5",
   "metadata": {},
   "source": [
    "# RMSE with zero value"
   ]
  },
  {
   "cell_type": "code",
   "execution_count": 71,
   "id": "ce52596e",
   "metadata": {},
   "outputs": [
    {
     "name": "stdout",
     "output_type": "stream",
     "text": [
      "3.664666247254423 [ 2.14827083e-06  2.21209296e-04 -3.23460699e-04  1.64673231e-05]\n"
     ]
    }
   ],
   "source": [
    "X_train, X_val, X_test, y_train, y_val, y_test = X_y_train_val_test(df,'fuel_efficiency_mpg')\n",
    "fill_zero=prepare_x(X_train,0)\n",
    "w_0, w = train_linear_regression(fill_zero, y_train)\n",
    "print(w_0, w)\n",
    "\n",
    "y_predict= w_0 + X_val.dot(w)\n"
   ]
  },
  {
   "cell_type": "code",
   "execution_count": 72,
   "id": "c804e401",
   "metadata": {},
   "outputs": [
    {
     "name": "stdout",
     "output_type": "stream",
     "text": [
      "RMSE with zero:0.04\n"
     ]
    }
   ],
   "source": [
    "X_train, X_val, X_test, y_train, y_val, y_test = X_y_train_val_test(df,'fuel_efficiency_mpg')\n",
    "\n",
    "def val_rmse(y, y_predict):\n",
    "    error = y_predict - y\n",
    "    mse= (error**2).mean()\n",
    "    rmse= np.sqrt(mse)\n",
    "    return rmse\n",
    "\n",
    "rmse_zero=val_rmse(y_val, y_predict)\n",
    "print(f\"RMSE with zero:{rmse_zero:.2f}\")"
   ]
  },
  {
   "cell_type": "markdown",
   "id": "defb6f3e",
   "metadata": {},
   "source": [
    "# RMSE with mean value"
   ]
  },
  {
   "cell_type": "code",
   "execution_count": 73,
   "id": "07cfb891",
   "metadata": {},
   "outputs": [
    {
     "data": {
      "text/plain": [
       "149.54476367006487"
      ]
     },
     "execution_count": 73,
     "metadata": {},
     "output_type": "execute_result"
    }
   ],
   "source": [
    "horsepower_mean=X_train['horsepower'].mean()\n",
    "horsepower_mean"
   ]
  },
  {
   "cell_type": "code",
   "execution_count": 74,
   "id": "ce7a628e",
   "metadata": {},
   "outputs": [
    {
     "name": "stdout",
     "output_type": "stream",
     "text": [
      "3.671000819625295 [ 3.63140955e-06  6.65758686e-04 -3.23242585e-04 -2.14173526e-05]\n",
      "RMSE with mean:0.04\n"
     ]
    }
   ],
   "source": [
    "X_train, X_val, X_test, y_train, y_val, y_test = X_y_train_val_test(df,'fuel_efficiency_mpg')\n",
    "fill_mean=prepare_x(X_train,horsepower_mean)\n",
    "w_0, w = train_linear_regression(fill_mean, y_train)\n",
    "print(w_0, w)\n",
    "y_predict= w_0 + X_val.dot(w)\n",
    "rmse_mean=val_rmse(y_val, y_predict)\n",
    "print(f\"RMSE with mean:{rmse_mean:.2f}\")"
   ]
  },
  {
   "cell_type": "markdown",
   "id": "ed6ce6a8",
   "metadata": {},
   "source": [
    "# Question 4"
   ]
  },
  {
   "cell_type": "code",
   "execution_count": 75,
   "id": "930069ce",
   "metadata": {},
   "outputs": [],
   "source": [
    "def train_linear_reg_leg(X,y, r=0.0):\n",
    "    ones= np.ones(X.shape[0])\n",
    "    X=np.column_stack([ones, X])\n",
    "    \n",
    "    XTX=X.T.dot(X)\n",
    "    r_i=r*np.eye(XTX.shape[0])\n",
    "    r_i[0, 0] = 0\n",
    "   \n",
    "    XTX_inv=np.linalg.inv(XTX+r_i)\n",
    "    w=XTX_inv.dot(X.T).dot(y)\n",
    "    return w[0], w[1:]\n",
    "\n",
    "\n",
    "\n"
   ]
  },
  {
   "cell_type": "code",
   "execution_count": 76,
   "id": "d9c8b33b",
   "metadata": {},
   "outputs": [
    {
     "name": "stdout",
     "output_type": "stream",
     "text": [
      "RMSE:0.04\n",
      "RMSE:0.04\n",
      "RMSE:0.04\n",
      "RMSE:0.04\n",
      "RMSE:0.04\n",
      "RMSE:0.04\n",
      "RMSE:0.04\n"
     ]
    }
   ],
   "source": [
    "fill_zero=prepare_x(X_train,0)\n",
    "list_r = [0, 0.01, 0.1, 1, 5, 10, 100]\n",
    "\n",
    "rmse_value=[]\n",
    "\n",
    "for i in list_r:\n",
    "    w_0, w= train_linear_reg_leg(fill_zero, y_train, r=i)\n",
    "    y_predict = w_0 + fill_zero.dot(w)\n",
    "    rmse=val_rmse(y_train, y_predict)\n",
    "    rmse_value.append(rmse)\n",
    "    \n",
    "for i in (rmse_value):\n",
    "    print(f\"RMSE:{i:.2f}\")\n",
    "\n",
    "    \n"
   ]
  },
  {
   "cell_type": "markdown",
   "id": "31da90e8",
   "metadata": {},
   "source": [
    "# Question 5"
   ]
  },
  {
   "cell_type": "code",
   "execution_count": 77,
   "id": "88293559",
   "metadata": {},
   "outputs": [
    {
     "name": "stdout",
     "output_type": "stream",
     "text": [
      "Seed value:0, RMSE Score:0.03682659903042285\n",
      "Seed value:1, RMSE Score:0.038316156629110816\n",
      "Seed value:2, RMSE Score:0.03822343784935675\n",
      "Seed value:3, RMSE Score:0.03740114862449291\n",
      "Seed value:4, RMSE Score:0.036093316454223014\n",
      "Seed value:5, RMSE Score:0.03766730216620211\n",
      "Seed value:6, RMSE Score:0.0377247500761145\n",
      "Seed value:7, RMSE Score:0.037501554895897606\n",
      "Seed value:8, RMSE Score:0.0387607259079047\n",
      "Seed value:9, RMSE Score:0.03765241879204821\n"
     ]
    }
   ],
   "source": [
    "seed_values= [0, 1, 2, 3, 4, 5, 6, 7, 8, 9]\n",
    "rmse_score=[]\n",
    "for i in seed_values:\n",
    "    X_train, X_val, X_test, y_train, y_val, y_test = X_y_train_val_test(df,target_column='fuel_efficiency_mpg', val_ratio=0.2, test_ratio=0.2, seed_value=i)\n",
    "    fill_zero=prepare_x(X_train,0)\n",
    "    w_0, w = train_linear_regression(fill_zero, y_train)\n",
    "    y_predict= w_0 + X_val.dot(w)\n",
    "    rmse_zero=val_rmse(y_val, y_predict)\n",
    "    rmse_score.append(rmse_zero)\n",
    "\n",
    "for i in seed_values:\n",
    "    print(f\"Seed value:{seed_values[i]}, RMSE Score:{rmse_score[i]}\")\n",
    "    \n",
    "    \n",
    "    \n",
    "    "
   ]
  },
  {
   "cell_type": "code",
   "execution_count": 78,
   "id": "38e77307",
   "metadata": {},
   "outputs": [
    {
     "name": "stdout",
     "output_type": "stream",
     "text": [
      "RMSE with Standard DEviation:0.001\n"
     ]
    }
   ],
   "source": [
    "rmse_std=np.std(rmse_score)\n",
    "print(f\"RMSE with Standard DEviation:{round(rmse_std,3)}\")"
   ]
  },
  {
   "cell_type": "markdown",
   "id": "a969a607",
   "metadata": {},
   "source": [
    "# Question 6"
   ]
  },
  {
   "cell_type": "code",
   "execution_count": null,
   "id": "7a1f2081",
   "metadata": {},
   "outputs": [
    {
     "name": "stdout",
     "output_type": "stream",
     "text": [
      "(7764, 4) (7764,)\n",
      "3.5720429066316246 [-4.64399507e-06  2.26071683e-04 -3.22546200e-04  6.15650213e-05]\n",
      "RMSE value:0.5925110314469615\n"
     ]
    }
   ],
   "source": [
    "X_train, X_val, X_test, y_train, y_val, y_test = X_y_train_val_test(df,target_column='fuel_efficiency_mpg', val_ratio=0.2, test_ratio=0.2, seed_value=9)\n",
    "X_combined= pd.concat([X_train, X_val], axis=0, ignore_index=True)\n",
    "y_combined= np.concatenate([y_train, y_val], axis=0)\n",
    "print(X_combined.shape, y_combined.shape)\n",
    "\n",
    "fill_zero=prepare_x(X_combined, 0)\n",
    "w_0, w= train_linear_reg_leg(fill_zero, y_combined, r=0.001)\n",
    "print(w_0, w)\n",
    "y_predict= w_0 + X_test.dot(w)\n",
    "y_predict_exp = np.exp(y_predict)\n",
    "y_test_exp = np.exp(y_test)\n",
    "rmse_zero=val_rmse(y_test_exp, y_predict_exp)\n",
    "print(f\"Final RMSE value:{rmse_zero}\")\n",
    "\n",
    "\n",
    "\n"
   ]
  }
 ],
 "metadata": {
  "kernelspec": {
   "display_name": "Python 3",
   "language": "python",
   "name": "python3"
  },
  "language_info": {
   "codemirror_mode": {
    "name": "ipython",
    "version": 3
   },
   "file_extension": ".py",
   "mimetype": "text/x-python",
   "name": "python",
   "nbconvert_exporter": "python",
   "pygments_lexer": "ipython3",
   "version": "3.8.10"
  }
 },
 "nbformat": 4,
 "nbformat_minor": 5
}
