{
 "cells": [
  {
   "cell_type": "code",
   "execution_count": 21,
   "id": "96b3c72a-6ea7-442b-9b54-217f6ff7f0c1",
   "metadata": {},
   "outputs": [
    {
     "name": "stdout",
     "output_type": "stream",
     "text": [
      "uv 0.9.5 (d5f39331a 2025-10-21)\n"
     ]
    }
   ],
   "source": [
    "!uv --version"
   ]
  },
  {
   "cell_type": "code",
   "execution_count": 20,
   "id": "9e44e538",
   "metadata": {},
   "outputs": [
    {
     "name": "stdout",
     "output_type": "stream",
     "text": [
      "version\n",
      "revision\n",
      "requires-python\n",
      "package\n",
      "Found scikit-learn:\n",
      "{'name': 'scikit-learn', 'version': '1.7.2', 'source': {'registry': 'https://pypi.org/simple'}, 'dependencies': [{'name': 'joblib'}, {'name': 'numpy'}, {'name': 'scipy'}, {'name': 'threadpoolctl'}], 'sdist': {'url': 'https://files.pythonhosted.org/packages/98/c2/a7855e41c9d285dfe86dc50b250978105dce513d6e459ea66a6aeb0e1e0c/scikit_learn-1.7.2.tar.gz', 'hash': 'sha256:20e9e49ecd130598f1ca38a1d85090e1a600147b9c02fa6f15d69cb53d968fda', 'size': 7193136, 'upload-time': '2025-09-09T08:21:29.075Z'}, 'wheels': [{'url': 'https://files.pythonhosted.org/packages/d9/82/dee5acf66837852e8e68df6d8d3a6cb22d3df997b733b032f513d95205b7/scikit_learn-1.7.2-cp314-cp314-macosx_10_13_x86_64.whl', 'hash': 'sha256:fa8f63940e29c82d1e67a45d5297bdebbcb585f5a5a50c4914cc2e852ab77f33', 'size': 9208906, 'upload-time': '2025-09-09T08:21:18.557Z'}, {'url': 'https://files.pythonhosted.org/packages/3c/30/9029e54e17b87cb7d50d51a5926429c683d5b4c1732f0507a6c3bed9bf65/scikit_learn-1.7.2-cp314-cp314-macosx_12_0_arm64.whl', 'hash': 'sha256:f95dc55b7902b91331fa4e5845dd5bde0580c9cd9612b1b2791b7e80c3d32615', 'size': 8627836, 'upload-time': '2025-09-09T08:21:20.695Z'}, {'url': 'https://files.pythonhosted.org/packages/60/18/4a52c635c71b536879f4b971c2cedf32c35ee78f48367885ed8025d1f7ee/scikit_learn-1.7.2-cp314-cp314-manylinux2014_x86_64.manylinux_2_17_x86_64.whl', 'hash': 'sha256:9656e4a53e54578ad10a434dc1f993330568cfee176dff07112b8785fb413106', 'size': 9426236, 'upload-time': '2025-09-09T08:21:22.645Z'}, {'url': 'https://files.pythonhosted.org/packages/99/7e/290362f6ab582128c53445458a5befd471ed1ea37953d5bcf80604619250/scikit_learn-1.7.2-cp314-cp314-manylinux_2_27_aarch64.manylinux_2_28_aarch64.whl', 'hash': 'sha256:96dc05a854add0e50d3f47a1ef21a10a595016da5b007c7d9cd9d0bffd1fcc61', 'size': 9312593, 'upload-time': '2025-09-09T08:21:24.65Z'}, {'url': 'https://files.pythonhosted.org/packages/8e/87/24f541b6d62b1794939ae6422f8023703bbf6900378b2b34e0b4384dfefd/scikit_learn-1.7.2-cp314-cp314-win_amd64.whl', 'hash': 'sha256:bb24510ed3f9f61476181e4db51ce801e2ba37541def12dc9333b946fc7a9cf8', 'size': 8820007, 'upload-time': '2025-09-09T08:21:26.713Z'}]}\n"
     ]
    }
   ],
   "source": [
    "import tomllib  # built into Python 3.11+\n",
    "\n",
    "with open('./uv.lock', 'rb') as lockfile:  # must open in binary mode for tomllib\n",
    "    uv_data = tomllib.load(lockfile)\n",
    "\n",
    "# Let's inspect the keys to understand the structure\n",
    "for key in uv_data.keys():\n",
    "    print(key)\n",
    "\n",
    "# To find scikit-learn, loop through the 'package' list\n",
    "for pkg in uv_data.get('package', []):\n",
    "    if pkg.get('name') == 'scikit-learn':\n",
    "        print(\"Found scikit-learn:\")\n",
    "        print(pkg)\n",
    "        break\n",
    "else:\n",
    "    print(\"scikit-learn not found in uv.lock\")"
   ]
  },
  {
   "cell_type": "code",
   "execution_count": 16,
   "id": "23b0cd8e-d709-4c2a-a1d6-92da9f5bc5bc",
   "metadata": {},
   "outputs": [
    {
     "name": "stdout",
     "output_type": "stream",
     "text": [
      "Lead conversion probability: 0.534\n"
     ]
    }
   ],
   "source": [
    "import pickle\n",
    "import warnings\n",
    "\n",
    "warnings.filterwarnings(\"ignore\")\n",
    "\n",
    "# Load the pipeline model\n",
    "with open('pipeline_v1.bin', 'rb') as f_in:\n",
    "    model = pickle.load(f_in)\n",
    "\n",
    "# Example record\n",
    "lead = {\n",
    "    \"lead_source\": \"paid_ads\",\n",
    "    \"number_of_courses_viewed\": 2,\n",
    "    \"annual_income\": 79276.0\n",
    "}\n",
    "\n",
    "# Get the probability of conversion\n",
    "pred_proba = model.predict_proba([lead])[0, 1]\n",
    "print(f\"Lead conversion probability: {pred_proba:.3f}\")"
   ]
  },
  {
   "cell_type": "code",
   "execution_count": 17,
   "id": "0067daee-3d87-49bc-a16f-cd128ecff4f6",
   "metadata": {},
   "outputs": [],
   "source": [
    "import pickle\n",
    "from fastapi import FastAPI\n",
    "from pydantic import BaseModel\n",
    "\n",
    "# Load the pipeline model\n",
    "with open('pipeline_v1.bin', 'rb') as f_in:\n",
    "    model = pickle.load(f_in)\n",
    "\n",
    "# Define input schema\n",
    "class Client(BaseModel):\n",
    "    lead_source: str\n",
    "    number_of_courses_viewed: int\n",
    "    annual_income: float\n",
    "\n",
    "# Create FastAPI app\n",
    "app = FastAPI()\n",
    "\n",
    "# Prediction endpoint\n",
    "@app.post(\"/predict\")\n",
    "def predict(client: Client):\n",
    "    data = client.dict()\n",
    "    proba = model.predict_proba([data])[0, 1]\n",
    "    return {\"subscription_probability\": round(float(proba), 3)}"
   ]
  },
  {
   "cell_type": "code",
   "execution_count": 19,
   "id": "0a597cb6-1938-47b1-827f-63f63381e25b",
   "metadata": {},
   "outputs": [
    {
     "name": "stdout",
     "output_type": "stream",
     "text": [
      "{'subscription_probability': 0.534}\n"
     ]
    }
   ],
   "source": [
    "import requests\n",
    "\n",
    "url = \"http://127.0.0.1:8000/predict\"\n",
    "\n",
    "client = {\n",
    "    \"lead_source\": \"organic_search\",\n",
    "    \"number_of_courses_viewed\": 4,\n",
    "    \"annual_income\": 80304.0\n",
    "}\n",
    "\n",
    "response = requests.post(url, json=client)\n",
    "print(response.json())"
   ]
  },
  {
   "cell_type": "code",
   "execution_count": null,
   "id": "eae6d04b-1281-4c09-bfb3-799e1068eb52",
   "metadata": {},
   "outputs": [],
   "source": []
  }
 ],
 "metadata": {
  "kernelspec": {
   "display_name": "Python 3 (ipykernel)",
   "language": "python",
   "name": "python3"
  },
  "language_info": {
   "codemirror_mode": {
    "name": "ipython",
    "version": 3
   },
   "file_extension": ".py",
   "mimetype": "text/x-python",
   "name": "python",
   "nbconvert_exporter": "python",
   "pygments_lexer": "ipython3",
   "version": "3.12.9"
  }
 },
 "nbformat": 4,
 "nbformat_minor": 5
}
