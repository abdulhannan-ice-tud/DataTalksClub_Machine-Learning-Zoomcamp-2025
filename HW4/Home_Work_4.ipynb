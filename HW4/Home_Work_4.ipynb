{
 "cells": [
  {
   "cell_type": "markdown",
   "id": "862745de",
   "metadata": {},
   "source": [
    "# Home Work 4"
   ]
  },
  {
   "cell_type": "code",
   "execution_count": 64,
   "id": "dfa718c5",
   "metadata": {},
   "outputs": [],
   "source": [
    "import pandas as pd\n",
    "import numpy as np\n",
    "from sklearn.model_selection import train_test_split\n",
    "from sklearn.metrics import roc_auc_score\n",
    "from sklearn.metrics import roc_curve, auc\n",
    "from sklearn.metrics import mutual_info_score\n",
    "from sklearn.feature_extraction import DictVectorizer\n",
    "from sklearn.linear_model import LogisticRegression\n",
    "from sklearn.model_selection import KFold\n",
    "from sklearn.metrics import accuracy_score\n",
    "from sklearn.metrics import precision_score, recall_score\n",
    "import matplotlib.pyplot as plt\n",
    "from tabulate import tabulate"
   ]
  },
  {
   "cell_type": "code",
   "execution_count": 65,
   "id": "542b0366",
   "metadata": {},
   "outputs": [
    {
     "data": {
      "text/html": [
       "<div>\n",
       "<style scoped>\n",
       "    .dataframe tbody tr th:only-of-type {\n",
       "        vertical-align: middle;\n",
       "    }\n",
       "\n",
       "    .dataframe tbody tr th {\n",
       "        vertical-align: top;\n",
       "    }\n",
       "\n",
       "    .dataframe thead th {\n",
       "        text-align: right;\n",
       "    }\n",
       "</style>\n",
       "<table border=\"1\" class=\"dataframe\">\n",
       "  <thead>\n",
       "    <tr style=\"text-align: right;\">\n",
       "      <th></th>\n",
       "      <th>lead_source</th>\n",
       "      <th>industry</th>\n",
       "      <th>number_of_courses_viewed</th>\n",
       "      <th>annual_income</th>\n",
       "      <th>employment_status</th>\n",
       "      <th>location</th>\n",
       "      <th>interaction_count</th>\n",
       "      <th>lead_score</th>\n",
       "      <th>converted</th>\n",
       "    </tr>\n",
       "  </thead>\n",
       "  <tbody>\n",
       "    <tr>\n",
       "      <th>0</th>\n",
       "      <td>paid_ads</td>\n",
       "      <td>NaN</td>\n",
       "      <td>1</td>\n",
       "      <td>79450.0</td>\n",
       "      <td>unemployed</td>\n",
       "      <td>south_america</td>\n",
       "      <td>4</td>\n",
       "      <td>0.94</td>\n",
       "      <td>1</td>\n",
       "    </tr>\n",
       "    <tr>\n",
       "      <th>1</th>\n",
       "      <td>social_media</td>\n",
       "      <td>retail</td>\n",
       "      <td>1</td>\n",
       "      <td>46992.0</td>\n",
       "      <td>employed</td>\n",
       "      <td>south_america</td>\n",
       "      <td>1</td>\n",
       "      <td>0.80</td>\n",
       "      <td>0</td>\n",
       "    </tr>\n",
       "    <tr>\n",
       "      <th>2</th>\n",
       "      <td>events</td>\n",
       "      <td>healthcare</td>\n",
       "      <td>5</td>\n",
       "      <td>78796.0</td>\n",
       "      <td>unemployed</td>\n",
       "      <td>australia</td>\n",
       "      <td>3</td>\n",
       "      <td>0.69</td>\n",
       "      <td>1</td>\n",
       "    </tr>\n",
       "    <tr>\n",
       "      <th>3</th>\n",
       "      <td>paid_ads</td>\n",
       "      <td>retail</td>\n",
       "      <td>2</td>\n",
       "      <td>83843.0</td>\n",
       "      <td>NaN</td>\n",
       "      <td>australia</td>\n",
       "      <td>1</td>\n",
       "      <td>0.87</td>\n",
       "      <td>0</td>\n",
       "    </tr>\n",
       "    <tr>\n",
       "      <th>4</th>\n",
       "      <td>referral</td>\n",
       "      <td>education</td>\n",
       "      <td>3</td>\n",
       "      <td>85012.0</td>\n",
       "      <td>self_employed</td>\n",
       "      <td>europe</td>\n",
       "      <td>3</td>\n",
       "      <td>0.62</td>\n",
       "      <td>1</td>\n",
       "    </tr>\n",
       "  </tbody>\n",
       "</table>\n",
       "</div>"
      ],
      "text/plain": [
       "    lead_source    industry  number_of_courses_viewed  annual_income  \\\n",
       "0      paid_ads         NaN                         1        79450.0   \n",
       "1  social_media      retail                         1        46992.0   \n",
       "2        events  healthcare                         5        78796.0   \n",
       "3      paid_ads      retail                         2        83843.0   \n",
       "4      referral   education                         3        85012.0   \n",
       "\n",
       "  employment_status       location  interaction_count  lead_score  converted  \n",
       "0        unemployed  south_america                  4        0.94          1  \n",
       "1          employed  south_america                  1        0.80          0  \n",
       "2        unemployed      australia                  3        0.69          1  \n",
       "3               NaN      australia                  1        0.87          0  \n",
       "4     self_employed         europe                  3        0.62          1  "
      ]
     },
     "execution_count": 65,
     "metadata": {},
     "output_type": "execute_result"
    }
   ],
   "source": [
    "df = pd.read_csv('https://raw.githubusercontent.com/alexeygrigorev/datasets/master/course_lead_scoring.csv')\n",
    "\n",
    "df.head(5)"
   ]
  },
  {
   "cell_type": "code",
   "execution_count": 66,
   "id": "3e4c638f",
   "metadata": {},
   "outputs": [
    {
     "data": {
      "text/plain": [
       "lead_source                 128\n",
       "industry                    134\n",
       "number_of_courses_viewed      0\n",
       "annual_income               181\n",
       "employment_status           100\n",
       "location                     63\n",
       "interaction_count             0\n",
       "lead_score                    0\n",
       "converted                     0\n",
       "dtype: int64"
      ]
     },
     "execution_count": 66,
     "metadata": {},
     "output_type": "execute_result"
    }
   ],
   "source": [
    "# Checking missing value\n",
    "df.isnull().sum()"
   ]
  },
  {
   "cell_type": "code",
   "execution_count": 67,
   "id": "b58c9cdf",
   "metadata": {},
   "outputs": [
    {
     "data": {
      "text/plain": [
       "lead_source                 0\n",
       "industry                    0\n",
       "number_of_courses_viewed    0\n",
       "annual_income               0\n",
       "employment_status           0\n",
       "location                    0\n",
       "interaction_count           0\n",
       "lead_score                  0\n",
       "converted                   0\n",
       "dtype: int64"
      ]
     },
     "execution_count": 67,
     "metadata": {},
     "output_type": "execute_result"
    }
   ],
   "source": [
    "# Replacing catagorical missing values with 'NA' and numerical missing values with 0.0\n",
    "\n",
    "for col in df.columns:\n",
    "    if df[col].dtype == 'object':\n",
    "        df[col]= df[col].fillna('NA')\n",
    "    else:\n",
    "        df[col]= df[col].fillna(0.0)\n",
    "df\n",
    "df.isnull().sum()"
   ]
  },
  {
   "cell_type": "code",
   "execution_count": 68,
   "id": "1375af83",
   "metadata": {},
   "outputs": [
    {
     "name": "stdout",
     "output_type": "stream",
     "text": [
      "Train size: 935\n",
      "Validation size: 234\n",
      "Test size: 293\n"
     ]
    },
    {
     "data": {
      "text/html": [
       "<div>\n",
       "<style scoped>\n",
       "    .dataframe tbody tr th:only-of-type {\n",
       "        vertical-align: middle;\n",
       "    }\n",
       "\n",
       "    .dataframe tbody tr th {\n",
       "        vertical-align: top;\n",
       "    }\n",
       "\n",
       "    .dataframe thead th {\n",
       "        text-align: right;\n",
       "    }\n",
       "</style>\n",
       "<table border=\"1\" class=\"dataframe\">\n",
       "  <thead>\n",
       "    <tr style=\"text-align: right;\">\n",
       "      <th></th>\n",
       "      <th>lead_source</th>\n",
       "      <th>industry</th>\n",
       "      <th>number_of_courses_viewed</th>\n",
       "      <th>annual_income</th>\n",
       "      <th>employment_status</th>\n",
       "      <th>location</th>\n",
       "      <th>interaction_count</th>\n",
       "      <th>lead_score</th>\n",
       "    </tr>\n",
       "  </thead>\n",
       "  <tbody>\n",
       "    <tr>\n",
       "      <th>266</th>\n",
       "      <td>events</td>\n",
       "      <td>education</td>\n",
       "      <td>3</td>\n",
       "      <td>61657.0</td>\n",
       "      <td>unemployed</td>\n",
       "      <td>australia</td>\n",
       "      <td>0</td>\n",
       "      <td>0.38</td>\n",
       "    </tr>\n",
       "    <tr>\n",
       "      <th>57</th>\n",
       "      <td>social_media</td>\n",
       "      <td>healthcare</td>\n",
       "      <td>2</td>\n",
       "      <td>68420.0</td>\n",
       "      <td>self_employed</td>\n",
       "      <td>europe</td>\n",
       "      <td>3</td>\n",
       "      <td>0.79</td>\n",
       "    </tr>\n",
       "    <tr>\n",
       "      <th>908</th>\n",
       "      <td>paid_ads</td>\n",
       "      <td>education</td>\n",
       "      <td>2</td>\n",
       "      <td>41483.0</td>\n",
       "      <td>unemployed</td>\n",
       "      <td>south_america</td>\n",
       "      <td>2</td>\n",
       "      <td>0.85</td>\n",
       "    </tr>\n",
       "    <tr>\n",
       "      <th>5</th>\n",
       "      <td>events</td>\n",
       "      <td>manufacturing</td>\n",
       "      <td>1</td>\n",
       "      <td>59904.0</td>\n",
       "      <td>NA</td>\n",
       "      <td>africa</td>\n",
       "      <td>6</td>\n",
       "      <td>0.83</td>\n",
       "    </tr>\n",
       "    <tr>\n",
       "      <th>1435</th>\n",
       "      <td>social_media</td>\n",
       "      <td>technology</td>\n",
       "      <td>3</td>\n",
       "      <td>61639.0</td>\n",
       "      <td>student</td>\n",
       "      <td>europe</td>\n",
       "      <td>1</td>\n",
       "      <td>0.27</td>\n",
       "    </tr>\n",
       "    <tr>\n",
       "      <th>...</th>\n",
       "      <td>...</td>\n",
       "      <td>...</td>\n",
       "      <td>...</td>\n",
       "      <td>...</td>\n",
       "      <td>...</td>\n",
       "      <td>...</td>\n",
       "      <td>...</td>\n",
       "      <td>...</td>\n",
       "    </tr>\n",
       "    <tr>\n",
       "      <th>39</th>\n",
       "      <td>NA</td>\n",
       "      <td>other</td>\n",
       "      <td>5</td>\n",
       "      <td>67314.0</td>\n",
       "      <td>NA</td>\n",
       "      <td>europe</td>\n",
       "      <td>2</td>\n",
       "      <td>0.87</td>\n",
       "    </tr>\n",
       "    <tr>\n",
       "      <th>1261</th>\n",
       "      <td>events</td>\n",
       "      <td>education</td>\n",
       "      <td>6</td>\n",
       "      <td>63996.0</td>\n",
       "      <td>NA</td>\n",
       "      <td>australia</td>\n",
       "      <td>4</td>\n",
       "      <td>0.92</td>\n",
       "    </tr>\n",
       "    <tr>\n",
       "      <th>595</th>\n",
       "      <td>organic_search</td>\n",
       "      <td>finance</td>\n",
       "      <td>1</td>\n",
       "      <td>73702.0</td>\n",
       "      <td>unemployed</td>\n",
       "      <td>north_america</td>\n",
       "      <td>2</td>\n",
       "      <td>0.55</td>\n",
       "    </tr>\n",
       "    <tr>\n",
       "      <th>1329</th>\n",
       "      <td>events</td>\n",
       "      <td>technology</td>\n",
       "      <td>1</td>\n",
       "      <td>93341.0</td>\n",
       "      <td>student</td>\n",
       "      <td>middle_east</td>\n",
       "      <td>4</td>\n",
       "      <td>0.99</td>\n",
       "    </tr>\n",
       "    <tr>\n",
       "      <th>269</th>\n",
       "      <td>social_media</td>\n",
       "      <td>finance</td>\n",
       "      <td>0</td>\n",
       "      <td>0.0</td>\n",
       "      <td>unemployed</td>\n",
       "      <td>africa</td>\n",
       "      <td>3</td>\n",
       "      <td>0.73</td>\n",
       "    </tr>\n",
       "  </tbody>\n",
       "</table>\n",
       "<p>935 rows × 8 columns</p>\n",
       "</div>"
      ],
      "text/plain": [
       "         lead_source       industry  number_of_courses_viewed  annual_income  \\\n",
       "266           events      education                         3        61657.0   \n",
       "57      social_media     healthcare                         2        68420.0   \n",
       "908         paid_ads      education                         2        41483.0   \n",
       "5             events  manufacturing                         1        59904.0   \n",
       "1435    social_media     technology                         3        61639.0   \n",
       "...              ...            ...                       ...            ...   \n",
       "39                NA          other                         5        67314.0   \n",
       "1261          events      education                         6        63996.0   \n",
       "595   organic_search        finance                         1        73702.0   \n",
       "1329          events     technology                         1        93341.0   \n",
       "269     social_media        finance                         0            0.0   \n",
       "\n",
       "     employment_status       location  interaction_count  lead_score  \n",
       "266         unemployed      australia                  0        0.38  \n",
       "57       self_employed         europe                  3        0.79  \n",
       "908         unemployed  south_america                  2        0.85  \n",
       "5                   NA         africa                  6        0.83  \n",
       "1435           student         europe                  1        0.27  \n",
       "...                ...            ...                ...         ...  \n",
       "39                  NA         europe                  2        0.87  \n",
       "1261                NA      australia                  4        0.92  \n",
       "595         unemployed  north_america                  2        0.55  \n",
       "1329           student    middle_east                  4        0.99  \n",
       "269         unemployed         africa                  3        0.73  \n",
       "\n",
       "[935 rows x 8 columns]"
      ]
     },
     "execution_count": 68,
     "metadata": {},
     "output_type": "execute_result"
    }
   ],
   "source": [
    "#Split data\n",
    "df_full_train, df_test = train_test_split(df.drop('converted', axis=1), test_size=0.2, random_state=1)\n",
    "df_train, df_val = train_test_split(df_full_train, test_size=0.2, random_state=1)\n",
    "\n",
    "print(f\"Train size: {len(df_train)}\")\n",
    "print(f\"Validation size: {len(df_val)}\")\n",
    "print(f\"Test size: {len(df_test)}\")\n",
    "df_train"
   ]
  },
  {
   "cell_type": "markdown",
   "id": "7eba69c0",
   "metadata": {},
   "source": [
    "# Question 1: ROC AUC feature importance"
   ]
  },
  {
   "cell_type": "code",
   "execution_count": 69,
   "id": "86762f31",
   "metadata": {},
   "outputs": [
    {
     "name": "stdout",
     "output_type": "stream",
     "text": [
      "number_of_courses_viewed: 0.7656440135120665\n",
      "annual_income: 0.5523787272567974\n",
      "interaction_count: 0.7309025242642835\n",
      "lead_score: 0.6077412069351558\n"
     ]
    }
   ],
   "source": [
    "df_train_num_col= df_train.select_dtypes(include=[\"int64\", \"float64\"])\n",
    "df_converted= df['converted'].iloc[df_train.index]\n",
    "\n",
    "for col in df_train_num_col.columns:\n",
    "    fpr, tpr, thresholds = roc_curve(df_converted, df_train_num_col[col])\n",
    "    auc_score = auc(fpr, tpr)\n",
    "    print(f\"{col}: {auc_score}\")\n",
    "\n",
    "\n"
   ]
  },
  {
   "cell_type": "markdown",
   "id": "b0769c59",
   "metadata": {},
   "source": [
    "# Question 2: Training the model with One Hot Encoding"
   ]
  },
  {
   "cell_type": "code",
   "execution_count": 70,
   "id": "86b2e425",
   "metadata": {},
   "outputs": [
    {
     "name": "stdout",
     "output_type": "stream",
     "text": [
      "Validation AUC: 0.806\n"
     ]
    }
   ],
   "source": [
    "numerical_feature=df_train.select_dtypes(include='number').columns.tolist()\n",
    "categorical_feature=df_train.select_dtypes(include='object').columns.tolist()\n",
    "features_columns= numerical_feature + categorical_feature\n",
    "\n",
    "train_records=df_train[features_columns].to_dict(orient='records')\n",
    "val_records=df_val[features_columns].to_dict(orient='records')\n",
    "test_records=df_test[features_columns].to_dict(orient='records')\n",
    "\n",
    "\n",
    "dv = DictVectorizer(sparse=False)\n",
    "X_train = dv.fit_transform(train_records)\n",
    "X_val = dv.transform(val_records)\n",
    "X_test= dv.transform(test_records)\n",
    "\n",
    "y_train=df.converted.loc[df_train.index].values\n",
    "y_val=df.converted.loc[df_val.index].values\n",
    "y_test=df.converted.loc[df_test.index].values\n",
    "\n",
    "model = LogisticRegression(solver='liblinear', C=1.0, max_iter=1000)\n",
    "model.fit(X_train, y_train)\n",
    "\n",
    "y_pred = model.predict_proba(X_val)[:, 1]\n",
    "auc = roc_auc_score(y_val, y_pred)\n",
    "\n",
    "\n",
    "print(f'Validation AUC: {round(auc, 3)}')\n"
   ]
  },
  {
   "cell_type": "markdown",
   "id": "0e9070eb",
   "metadata": {},
   "source": [
    "# Question 3: Precision and Recall"
   ]
  },
  {
   "cell_type": "code",
   "execution_count": 71,
   "id": "2bdecad2",
   "metadata": {},
   "outputs": [
    {
     "name": "stderr",
     "output_type": "stream",
     "text": [
      "c:\\Users\\WALY\\AppData\\Local\\Programs\\Python\\Python38\\lib\\site-packages\\sklearn\\metrics\\_classification.py:1471: UndefinedMetricWarning: Precision is ill-defined and being set to 0.0 due to no predicted samples. Use `zero_division` parameter to control this behavior.\n",
      "  _warn_prf(average, modifier, msg_start, len(result))\n",
      "c:\\Users\\WALY\\AppData\\Local\\Programs\\Python\\Python38\\lib\\site-packages\\sklearn\\metrics\\_classification.py:1471: UndefinedMetricWarning: Precision is ill-defined and being set to 0.0 due to no predicted samples. Use `zero_division` parameter to control this behavior.\n",
      "  _warn_prf(average, modifier, msg_start, len(result))\n"
     ]
    },
    {
     "data": {
      "image/png": "[encoded data removed]",
      "text/plain": [
       "<Figure size 800x600 with 1 Axes>"
      ]
     },
     "metadata": {},
     "output_type": "display_data"
    }
   ],
   "source": [
    "thresholds = np.arange(0.0, 1.0, 0.01)\n",
    "precisions = []\n",
    "recalls = []\n",
    "\n",
    "for t in  thresholds:\n",
    "    y_pred_bin = (y_pred >= t)\n",
    "    precisions.append(precision_score(y_val, y_pred_bin))\n",
    "    recalls.append(recall_score(y_val, y_pred_bin))\n",
    "\n",
    "# Plot\n",
    "plt.figure(figsize=(8,6))\n",
    "plt.plot(thresholds, precisions, label='Precision')\n",
    "plt.plot(thresholds, recalls, label='Recall')\n",
    "plt.xlabel('Threshold')\n",
    "plt.ylabel('Score')\n",
    "plt.legend()\n",
    "plt.grid(True)\n",
    "plt.show()\n",
    "\n"
   ]
  },
  {
   "cell_type": "code",
   "execution_count": 72,
   "id": "153ca93b",
   "metadata": {},
   "outputs": [
    {
     "name": "stdout",
     "output_type": "stream",
     "text": [
      "Threshold where precision and recall curves intersect: 0.635\n"
     ]
    }
   ],
   "source": [
    "precisions = np.array(precisions)\n",
    "recalls = np.array(recalls)\n",
    "\n",
    "difference = precisions - recalls\n",
    "\n",
    "intersection_indices = np.where(np.diff(np.sign(difference)))[0]\n",
    "\n",
    "if intersection_indices.size > 0:\n",
    "    intersection_threshold = (thresholds[intersection_indices] + thresholds[intersection_indices + 1]) / 2\n",
    "    print(f'Threshold where precision and recall curves intersect: {intersection_threshold[0]:.3f}')\n",
    "else:\n",
    "    print('No intersection found within the thresholds.')"
   ]
  },
  {
   "cell_type": "markdown",
   "id": "e33accc6",
   "metadata": {},
   "source": [
    "# Question 4: F1 score"
   ]
  },
  {
   "cell_type": "code",
   "execution_count": 73,
   "id": "7632294f",
   "metadata": {},
   "outputs": [
    {
     "name": "stdout",
     "output_type": "stream",
     "text": [
      "Max F1 score: 0.801 at threshold 0.580\n"
     ]
    },
    {
     "name": "stderr",
     "output_type": "stream",
     "text": [
      "c:\\Users\\WALY\\AppData\\Local\\Programs\\Python\\Python38\\lib\\site-packages\\sklearn\\metrics\\_classification.py:1471: UndefinedMetricWarning: Precision is ill-defined and being set to 0.0 due to no predicted samples. Use `zero_division` parameter to control this behavior.\n",
      "  _warn_prf(average, modifier, msg_start, len(result))\n",
      "c:\\Users\\WALY\\AppData\\Local\\Programs\\Python\\Python38\\lib\\site-packages\\sklearn\\metrics\\_classification.py:1471: UndefinedMetricWarning: Precision is ill-defined and being set to 0.0 due to no predicted samples. Use `zero_division` parameter to control this behavior.\n",
      "  _warn_prf(average, modifier, msg_start, len(result))\n"
     ]
    }
   ],
   "source": [
    "f1_scores = []\n",
    "\n",
    "for t in thresholds:\n",
    "    y_pred_bin = (y_pred >= t)\n",
    "    p = precision_score(y_val, y_pred_bin)\n",
    "    r = recall_score(y_val, y_pred_bin)\n",
    "    if (p + r) == 0:\n",
    "        f1_scores.append(0)\n",
    "    else:\n",
    "        f1_scores.append(2 * p * r / (p + r))\n",
    "\n",
    "max_idx = np.argmax(f1_scores)\n",
    "max_threshold = thresholds[max_idx]\n",
    "max_idx_f1 = f1_scores[max_idx]\n",
    "\n",
    "print(f\"Max F1 score: {max_idx_f1:.3f} at threshold {max_threshold:.3f}\")"
   ]
  },
  {
   "cell_type": "markdown",
   "id": "0e72c529",
   "metadata": {},
   "source": [
    "# Question 5: 5-Fold CV"
   ]
  },
  {
   "cell_type": "code",
   "execution_count": null,
   "id": "1ee86e10",
   "metadata": {},
   "outputs": [
    {
     "name": "stdout",
     "output_type": "stream",
     "text": [
      "AUC scores for each fold: [0.806 0.871 0.775 0.802 0.856]\n",
      "Mean AUC: 0.8221089148573075\n",
      "Std deviation of AUC: 0.036\n"
     ]
    }
   ],
   "source": [
    "df_full_train, df_test = train_test_split(df, test_size=0.2, random_state=1)\n",
    "\n",
    "y_full_train = df_full_train.converted.values\n",
    "del df_full_train['converted']\n",
    "\n",
    "# Define KFold\n",
    "kfold = KFold(n_splits=5, shuffle=True, random_state=1)\n",
    "\n",
    "aucs = []\n",
    "\n",
    "# Perform cross-validation\n",
    "for train_idx, val_idx in kfold.split(df_full_train):\n",
    "    df_train = df_full_train.iloc[train_idx]\n",
    "    df_val = df_full_train.iloc[val_idx]\n",
    "\n",
    "    y_train = y_full_train[train_idx]\n",
    "    y_val = y_full_train[val_idx]\n",
    "\n",
    "    dv = DictVectorizer(sparse=False)\n",
    "    X_train = dv.fit_transform(df_train.to_dict(orient='records'))\n",
    "    X_val = dv.transform(df_val.to_dict(orient='records'))\n",
    "\n",
    "    model = LogisticRegression(solver='liblinear', C=1.0, max_iter=1000)\n",
    "    model.fit(X_train, y_train)\n",
    "\n",
    "    y_pred = model.predict_proba(X_val)[:, 1]\n",
    "    auc = roc_auc_score(y_val, y_pred)\n",
    "    aucs.append(auc)\n",
    "\n",
    "std_auc = np.std(aucs)\n",
    "print(\"AUC scores for each fold:\", np.round(aucs, 3))\n",
    "print(\"Mean AUC:\", np.mean(aucs))\n",
    "print(f\"Std deviation of AUC: {std_auc:.3f}\")\n"
   ]
  },
  {
   "cell_type": "markdown",
   "id": "35c61028",
   "metadata": {},
   "source": [
    "# Question 6: Hyperparameter Tuning"
   ]
  },
  {
   "cell_type": "code",
   "execution_count": 79,
   "id": "ed0a84b3",
   "metadata": {},
   "outputs": [
    {
     "name": "stdout",
     "output_type": "stream",
     "text": [
      "C=1e-06: mean=0.560, std=0.024\n",
      "C=0.001: mean=0.867, std=0.029\n",
      "C=1: mean=0.822, std=0.036\n"
     ]
    }
   ],
   "source": [
    "C_values = [0.000001, 0.001, 1]\n",
    "kfold = KFold(n_splits=5, shuffle=True, random_state=1)\n",
    "\n",
    "for C in C_values:\n",
    "    aucs = []\n",
    "    for train_idx, val_idx in kfold.split(df_full_train):\n",
    "        df_train = df_full_train.iloc[train_idx]\n",
    "        df_val = df_full_train.iloc[val_idx]\n",
    "        y_train = y_full_train[train_idx]\n",
    "        y_val = y_full_train[val_idx]\n",
    "\n",
    "        dv = DictVectorizer(sparse=False)\n",
    "        X_train = dv.fit_transform(df_train.to_dict(orient='records'))\n",
    "        X_val = dv.transform(df_val.to_dict(orient='records'))\n",
    "\n",
    "        model = LogisticRegression(solver='liblinear', C=C, max_iter=1000)\n",
    "        model.fit(X_train, y_train)\n",
    "\n",
    "        y_pred = model.predict_proba(X_val)[:, 1]\n",
    "        auc = roc_auc_score(y_val, y_pred)\n",
    "        aucs.append(auc)\n",
    "    \n",
    "    print(f\"C={C}: mean={np.mean(aucs):.3f}, std={np.std(aucs):.3f}\")\n"
   ]
  }
 ],
 "metadata": {
  "kernelspec": {
   "display_name": "Python 3",
   "language": "python",
   "name": "python3"
  },
  "language_info": {
   "codemirror_mode": {
    "name": "ipython",
    "version": 3
   },
   "file_extension": ".py",
   "mimetype": "text/x-python",
   "name": "python",
   "nbconvert_exporter": "python",
   "pygments_lexer": "ipython3",
   "version": "3.8.10"
  }
 },
 "nbformat": 4,
 "nbformat_minor": 5
}
